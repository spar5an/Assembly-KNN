{
 "cells": [
  {
   "cell_type": "markdown",
   "metadata": {},
   "source": [
    "## Bubble sort for conversion to assembly"
   ]
  },
  {
   "cell_type": "code",
   "execution_count": null,
   "metadata": {},
   "outputs": [],
   "source": [
    "def bubble_sort(arr):\n",
    "    # Outer loop to iterate through the list n times\n",
    "    for n in range(len(arr) - 1, 0, -1):\n",
    "        \n",
    "        # Initialize swapped to track if any swaps occur\n",
    "        swapped = False  \n",
    "\n",
    "        # Inner loop to compare adjacent elements\n",
    "        for i in range(n):\n",
    "            if arr[i] > arr[i + 1]:\n",
    "              \n",
    "                # Swap elements if they are in the wrong order\n",
    "                arr[i], arr[i + 1] = arr[i + 1], arr[i]\n",
    "                \n",
    "                # Mark that a swap has occurred\n",
    "                swapped = True\n",
    "        \n",
    "        # If no swaps occurred, the list is already sorted\n",
    "        if not swapped:\n",
    "            break\n",
    "\n",
    "\n",
    "# Sample list to be sorted\n",
    "arr = [6,6,2]\n",
    "print(\"Unsorted list is:\")\n",
    "print(arr)\n",
    "\n",
    "bubble_sort(arr)\n",
    "\n",
    "print(\"Sorted list is:\")\n",
    "print(arr)"
   ]
  }
 ],
 "metadata": {
  "kernelspec": {
   "display_name": "base",
   "language": "python",
   "name": "python3"
  },
  "language_info": {
   "name": "python",
   "version": "3.12.3"
  }
 },
 "nbformat": 4,
 "nbformat_minor": 2
}
