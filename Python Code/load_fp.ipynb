{
 "cells": [
  {
   "cell_type": "markdown",
   "metadata": {},
   "source": [
    "## Loading first points"
   ]
  },
  {
   "cell_type": "code",
   "execution_count": 12,
   "metadata": {},
   "outputs": [],
   "source": [
    "import pickle\n",
    "import numpy as np\n",
    "import serial\n",
    "\n",
    "port = serial.Serial(\"COM4\", 9600)#ive written this for linux but it might not work so switch for com when on windows\n",
    "\n",
    "\n",
    "def scale_and_cast(data):\n",
    "    for i in range(0,data.shape[1]):\n",
    "        sf = 255/(max(data[:,i]) - min(data[:,i]))\n",
    "        data[:,i] = (data[:,i] - min(data[:,i])) * sf\n",
    "\n",
    "    return np.rint(data)\n",
    "\n",
    "with open('first_data.pickle', 'rb') as handle:\n",
    "    data = pickle.load(handle)\n",
    "\n",
    "X = data[\"values\"]\n",
    "y = data[\"labels\"]"
   ]
  },
  {
   "cell_type": "code",
   "execution_count": null,
   "metadata": {},
   "outputs": [],
   "source": [
    "for val, lab in zip(scale_and_cast(X),y):\n",
    "    #wait for signal\n",
    "    signal = port.readline()    \n",
    "\n",
    "\n",
    "    val_list = [int(x) for x in val]\n",
    "    val_list.append(int(y[0]))\n",
    "    \n",
    "    print(bytearray(val_list))\n",
    "    #send data\n",
    "    port.write(bytearray(val_list))\n",
    "\n",
    "    "
   ]
  },
  {
   "cell_type": "code",
   "execution_count": null,
   "metadata": {},
   "outputs": [],
   "source": []
  }
 ],
 "metadata": {
  "kernelspec": {
   "display_name": "base",
   "language": "python",
   "name": "python3"
  },
  "language_info": {
   "codemirror_mode": {
    "name": "ipython",
    "version": 3
   },
   "file_extension": ".py",
   "mimetype": "text/x-python",
   "name": "python",
   "nbconvert_exporter": "python",
   "pygments_lexer": "ipython3",
   "version": "3.12.3"
  }
 },
 "nbformat": 4,
 "nbformat_minor": 2
}
