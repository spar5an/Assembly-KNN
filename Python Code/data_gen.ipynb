{
 "cells": [
  {
   "cell_type": "markdown",
   "metadata": {},
   "source": [
    "# Generates Blobbed Data for testing"
   ]
  },
  {
   "cell_type": "code",
   "execution_count": 5,
   "metadata": {},
   "outputs": [],
   "source": [
    "import numpy as np\n",
    "import matplotlib.pyplot as plt\n",
    "from sklearn.datasets import make_blobs\n",
    "import matplotlib.pyplot as plt\n"
   ]
  },
  {
   "cell_type": "code",
   "execution_count": 6,
   "metadata": {},
   "outputs": [],
   "source": [
    "X, y = make_blobs(n_samples=20, centers=2, n_features=3, random_state=1)"
   ]
  },
  {
   "cell_type": "code",
   "execution_count": 7,
   "metadata": {},
   "outputs": [],
   "source": [
    "def scale_and_cast(data):\n",
    "    for i in range(0,data.shape[1]):\n",
    "        sf = 255/(max(data[:,i]) - min(data[:,i]))\n",
    "        data[:,i] = (data[:,i] - min(data[:,i])) * sf\n",
    "\n",
    "    return np.rint(data)"
   ]
  },
  {
   "cell_type": "code",
   "execution_count": 12,
   "metadata": {},
   "outputs": [
    {
     "name": "stdout",
     "output_type": "stream",
     "text": [
      "0xb1, 0x16, 0xbf, 0xff, 0xcc, 0x23, 0xc, 0x5, 0x73, 0x0, 0x7, 0xff, 0x88, 0xe1, 0x50, 0x46, 0xe, 0x57, 0x66, 0x24, 0xac, 0x69, 0x6, 0xe5, 0x7b, 0xf4, 0x63, 0x34, 0x0, 0xa8, 0xda, 0xf0, 0x5, 0x37, 0x9, 0xa6, 0x20, 0x10, 0xbd, 0x42, 0xda, 0x16, 0xcf, 0xdc, 0x84, 0xb5, 0xcf, 0x1d, 0xdb, 0xd4, 0x16, 0x34, 0xff, 0x0, 0x97, 0x21, 0x8f, 0x9d, 0xcd, 0x61, "
     ]
    }
   ],
   "source": [
    "for item in scale_and_cast(X):\n",
    "    for num in item:\n",
    "        print(hex(int(num)), end=\", \")\n"
   ]
  },
  {
   "cell_type": "code",
   "execution_count": 15,
   "metadata": {},
   "outputs": [
    {
     "name": "stdout",
     "output_type": "stream",
     "text": [
      "0x1, 0x0, 0x1, 0x1, 0x0, 0x1, 0x1, 0x1, 0x0, 0x1, 0x0, 0x1, 0x1, 0x0, 0x0, 0x0, 0x0, 0x0, 0x1, 0x0, "
     ]
    }
   ],
   "source": [
    "for i in y:\n",
    "    print(hex(i), end=\", \")"
   ]
  }
 ],
 "metadata": {
  "kernelspec": {
   "display_name": "base",
   "language": "python",
   "name": "python3"
  },
  "language_info": {
   "codemirror_mode": {
    "name": "ipython",
    "version": 3
   },
   "file_extension": ".py",
   "mimetype": "text/x-python",
   "name": "python",
   "nbconvert_exporter": "python",
   "pygments_lexer": "ipython3",
   "version": "3.12.3"
  }
 },
 "nbformat": 4,
 "nbformat_minor": 2
}
