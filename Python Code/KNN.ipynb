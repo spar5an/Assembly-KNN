{
 "cells": [
  {
   "cell_type": "markdown",
   "metadata": {},
   "source": [
    "# KNN From Scratch\n",
    "The point of this is to code a binary classifier KNN from scratch in order to learn the architecture, do some experimenting and feasibility checks. Useful for report material."
   ]
  },
  {
   "cell_type": "markdown",
   "metadata": {},
   "source": [
    "Will not be importing any modules and will be enforcing 8 bit integers only. Although I will still have access to things like classes and lists, this will mimic the behaviour of the micro-processor better than otherwise."
   ]
  },
  {
   "cell_type": "markdown",
   "metadata": {},
   "source": [
    "## Sorting and counting functions"
   ]
  },
  {
   "cell_type": "code",
   "execution_count": null,
   "metadata": {},
   "outputs": [],
   "source": [
    "#chatgpted argsort which is needed\n",
    "def mergesort(arr):\n",
    "    if len(arr) <= 1:\n",
    "        return arr\n",
    "\n",
    "    mid = len(arr) // 2\n",
    "    left = mergesort(arr[:mid])\n",
    "    right = mergesort(arr[mid:])\n",
    "\n",
    "    return merge(left, right)\n",
    "\n",
    "def merge(left, right):\n",
    "    result = []\n",
    "    i = j = 0\n",
    "\n",
    "    while i < len(left) and j < len(right):\n",
    "        if left[i] < right[j]:\n",
    "            result.append(left[i])\n",
    "            i += 1\n",
    "        else:\n",
    "            result.append(right[j])\n",
    "            j += 1\n",
    "\n",
    "    result.extend(left[i:])\n",
    "    result.extend(right[j:])\n",
    "    return result\n",
    "\n",
    "def argsort(arr):\n",
    "    indices = list(range(len(arr)))  # Create a list of indices\n",
    "\n",
    "    # Custom sorting function: Sort indices based on values in arr using mergesort\n",
    "    def merge_sort_indices(indices):\n",
    "        if len(indices) <= 1:\n",
    "            return indices\n",
    "\n",
    "        mid = len(indices) // 2\n",
    "        left = merge_sort_indices(indices[:mid])\n",
    "        right = merge_sort_indices(indices[mid:])\n",
    "\n",
    "        return merge_indices(left, right)\n",
    "\n",
    "    def merge_indices(left, right):\n",
    "        result = []\n",
    "        i = j = 0\n",
    "\n",
    "        while i < len(left) and j < len(right):\n",
    "            if arr[left[i]] < arr[right[j]]:  # Compare values from arr using indices\n",
    "                result.append(left[i])\n",
    "                i += 1\n",
    "            else:\n",
    "                result.append(right[j])\n",
    "                j += 1\n",
    "\n",
    "        result.extend(left[i:])\n",
    "        result.extend(right[j:])\n",
    "        return result\n",
    "\n",
    "    return merge_sort_indices(indices)\n",
    "\n",
    "def count(values):\n",
    "    counter_0 = 0\n",
    "    counter_1 = 0\n",
    "\n",
    "    for val in values:\n",
    "        if val == 0:\n",
    "            counter_0 += 1\n",
    "        else:\n",
    "            counter_1 += 1\n",
    "\n",
    "    if counter_1 > counter_0:\n",
    "        return 1\n",
    "    else:\n",
    "        return 0\n",
    "\n"
   ]
  },
  {
   "cell_type": "code",
   "execution_count": 3,
   "metadata": {},
   "outputs": [],
   "source": [
    "def distance(x1,x2):\n",
    "    total = 0\n",
    "    for c1,c2 in zip(x1,x2):\n",
    "        total += (c2-c1)**2\n",
    "    return total\n",
    "\n",
    "class KNN:#this will only do binary classification\n",
    "    def __init__(self, K):#might add weighting later but just uniform for the time being\n",
    "        \"\"\"Would recommend K is odd only based on how the counting in prediction is done.\"\"\"\n",
    "        self.K = K\n",
    "\n",
    "    def fit(self,x,y):\n",
    "        self.x = x\n",
    "        self.y = y\n",
    "\n",
    "    def predict(self, input_point):\n",
    "        #going to calculate distance to everypoint and then sort, will upgrade this list later\n",
    "        distances = [distance(x, input_point) for x in self.x]\n",
    "        points = argsort(distances)[:self.K]\n",
    "        return count(points)\n",
    "\n",
    "        \n",
    "\n",
    "        \n",
    "        \n",
    "\n",
    "\n",
    "\n",
    "        \n",
    "\n",
    "        \n",
    "        \n",
    "\n",
    "        \n"
   ]
  },
  {
   "cell_type": "code",
   "execution_count": null,
   "metadata": {},
   "outputs": [],
   "source": []
  }
 ],
 "metadata": {
  "kernelspec": {
   "display_name": "base",
   "language": "python",
   "name": "python3"
  },
  "language_info": {
   "codemirror_mode": {
    "name": "ipython",
    "version": 3
   },
   "file_extension": ".py",
   "mimetype": "text/x-python",
   "name": "python",
   "nbconvert_exporter": "python",
   "pygments_lexer": "ipython3",
   "version": "3.12.3"
  }
 },
 "nbformat": 4,
 "nbformat_minor": 2
}
