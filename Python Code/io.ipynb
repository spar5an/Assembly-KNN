{
 "cells": [
  {
   "cell_type": "markdown",
   "metadata": {},
   "source": [
    "## This is for the development of python code needed to send input and later receive output from the microprocessor\n"
   ]
  },
  {
   "cell_type": "code",
   "execution_count": 21,
   "metadata": {},
   "outputs": [],
   "source": [
    "import serial\n",
    "import numpy as np\n",
    "import pickle\n",
    "\n",
    "def scale_and_cast(data):\n",
    "    for i in range(0,data.shape[1]):\n",
    "        sf = 255/(max(data[:,i]) - min(data[:,i]))\n",
    "        data[:,i] = (data[:,i] - min(data[:,i])) * sf\n",
    "\n",
    "    return np.rint(data)\n",
    "\n",
    "port = serial.Serial(\"COM4\", 9600)#ive written this for linux but it might not work so switch for com when on windows\n",
    "\n",
    "with open('test_data.pickle', 'rb') as handle:\n",
    "    data = pickle.load(handle)\n",
    "\n",
    "\n",
    "X = data[\"values\"]\n",
    "y = data[\"labels\"]"
   ]
  },
  {
   "cell_type": "code",
   "execution_count": 35,
   "metadata": {},
   "outputs": [],
   "source": [
    "output = []\n",
    "\n",
    "for val, lab in zip(scale_and_cast(X),y):\n",
    "    #wait for signal\n",
    "    signal = port.readline()    \n",
    "\n",
    "\n",
    "    val_list = [int(x) for x in val]\n",
    "    \n",
    "    #send data\n",
    "    port.write(bytearray(val_list))\n",
    "\n",
    "\n",
    "    signal = port.readline()\n",
    "    output.append(signal)\n",
    "\n"
   ]
  },
  {
   "cell_type": "code",
   "execution_count": 38,
   "metadata": {},
   "outputs": [
    {
     "name": "stdout",
     "output_type": "stream",
     "text": [
      "[b'\\x00\\n', b'\\x00\\n', b'\\x00\\n', b'\\x00\\n', b'\\x00\\n', b'\\x00\\n', b'\\x00\\n', b'\\x00\\n', b'\\x00\\n', b'\\x00\\n', b'\\x00\\n', b'\\x00\\n', b'\\x00\\n', b'\\x00\\n', b'\\x00\\n', b'\\x00\\n', b'\\x00\\n', b'\\x00\\n', b'\\x00\\n', b'\\x00\\n', b'\\x00\\n', b'\\x00\\n', b'\\x00\\n', b'\\x00\\n', b'\\x00\\n', b'\\x00\\n', b'\\x00\\n', b'\\x00\\n', b'\\x00\\n', b'\\x00\\n', b'\\x00\\n', b'\\x00\\n', b'\\x00\\n', b'\\x00\\n', b'\\x00\\n', b'\\x00\\n', b'\\x00\\n', b'\\x00\\n', b'\\x00\\n', b'\\x01\\n', b'\\x01\\n', b'\\x01\\n', b'\\x01\\n', b'\\x01\\n', b'\\x01\\n', b'\\x01\\n', b'\\x01\\n', b'\\x01\\n', b'\\x01\\n', b'\\x00\\n', b'\\x00\\n', b'\\x00\\n', b'\\x00\\n', b'\\x00\\n', b'\\x00\\n', b'\\x00\\n', b'\\x00\\n', b'\\x00\\n', b'\\x00\\n', b'\\x00\\n', b'\\x00\\n', b'\\x00\\n', b'\\x00\\n', b'\\x00\\n', b'\\x00\\n', b'\\x00\\n', b'\\x00\\n', b'\\x00\\n', b'\\x00\\n', b'\\x00\\n', b'\\x00\\n', b'\\x00\\n', b'\\x00\\n', b'\\x01\\n', b'\\x01\\n', b'\\x01\\n', b'\\x00\\n', b'\\x01\\n', b'\\x01\\n', b'\\x00\\n', b'\\x00\\n', b'\\x00\\n', b'\\x00\\n', b'\\x00\\n', b'\\x00\\n', b'\\x00\\n', b'\\x00\\n', b'\\x00\\n', b'\\x00\\n', b'\\x00\\n', b'\\x00\\n', b'\\x00\\n', b'\\x00\\n', b'\\x00\\n', b'\\x00\\n', b'\\x00\\n', b'\\x00\\n', b'\\x00\\n', b'\\x00\\n', b'\\x00\\n', b'\\x00\\n', b'\\x00\\n', b'\\x00\\n', b'\\x00\\n', b'\\x00\\n', b'\\x00\\n', b'\\x00\\n', b'\\x00\\n', b'\\x00\\n', b'\\x00\\n', b'\\x00\\n', b'\\x00\\n', b'\\x00\\n', b'\\x00\\n', b'\\x00\\n', b'\\x00\\n', b'\\x00\\n', b'\\x00\\n', b'\\x00\\n', b'\\x00\\n', b'\\x00\\n', b'\\x00\\n', b'\\x00\\n', b'\\x00\\n', b'\\x00\\n', b'\\x00\\n', b'\\x01\\n', b'\\x01\\n', b'\\x01\\n', b'\\x01\\n', b'\\x01\\n', b'\\x01\\n', b'\\x01\\n', b'\\x01\\n', b'\\x01\\n', b'\\x01\\n', b'\\x01\\n', b'\\x00\\n', b'\\x00\\n', b'\\x00\\n', b'\\x00\\n', b'\\x00\\n', b'\\x01\\n', b'\\x01\\n', b'\\x01\\n', b'\\x00\\n', b'\\x00\\n', b'\\x00\\n', b'\\x00\\n', b'\\x00\\n', b'\\x01\\n', b'\\x01\\n', b'\\x01\\n', b'\\x01\\n', b'\\x01\\n', b'\\x01\\n', b'\\x00\\n', b'\\x01\\n', b'\\x00\\n', b'\\x00\\n', b'\\x00\\n', b'\\x00\\n', b'\\x00\\n', b'\\x00\\n', b'\\x00\\n', b'\\x00\\n', b'\\x00\\n', b'\\x00\\n', b'\\x00\\n', b'\\x00\\n', b'\\x00\\n', b'\\x00\\n', b'\\x00\\n', b'\\x00\\n', b'\\x00\\n', b'\\x00\\n', b'\\x00\\n', b'\\x00\\n', b'\\x00\\n', b'\\x00\\n', b'\\x01\\n', b'\\x01\\n', b'\\x01\\n', b'\\x01\\n', b'\\x01\\n', b'\\x00\\n', b'\\x01\\n', b'\\x00\\n', b'\\x00\\n', b'\\x00\\n', b'\\x00\\n', b'\\x00\\n', b'\\x00\\n', b'\\x00\\n', b'\\x00\\n', b'\\x00\\n', b'\\x00\\n', b'\\x01\\n', b'\\x00\\n', b'\\x01\\n', b'\\x01\\n', b'\\x01\\n', b'\\x01\\n', b'\\x01\\n', b'\\x00\\n', b'\\x01\\n', b'\\x01\\n', b'\\x01\\n', b'\\x01\\n', b'\\x01\\n', b'\\x01\\n', b'\\x01\\n', b'\\x01\\n', b'\\x00\\n', b'\\x00\\n', b'\\x00\\n', b'\\x00\\n', b'\\x00\\n', b'\\x01\\n', b'\\x00\\n', b'\\x00\\n', b'\\x00\\n', b'\\x00\\n', b'\\x00\\n', b'\\x00\\n', b'\\x00\\n', b'\\x00\\n', b'\\x00\\n', b'\\x00\\n', b'\\x00\\n', b'\\x00\\n', b'\\x00\\n', b'\\x00\\n', b'\\x00\\n', b'\\x00\\n', b'\\x00\\n', b'\\x00\\n', b'\\x00\\n', b'\\x00\\n', b'\\x00\\n', b'\\x00\\n', b'\\x00\\n', b'\\x00\\n', b'\\x00\\n', b'\\x00\\n', b'\\x01\\n', b'\\x01\\n', b'\\x01\\n', b'\\x01\\n', b'\\x01\\n', b'\\x01\\n', b'\\x01\\n', b'\\x01\\n', b'\\x01\\n', b'\\x01\\n', b'\\x00\\n', b'\\x00\\n', b'\\x00\\n', b'\\x00\\n', b'\\x00\\n', b'\\x00\\n', b'\\x00\\n', b'\\x00\\n', b'\\x00\\n', b'\\x00\\n', b'\\x00\\n', b'\\x00\\n', b'\\x00\\n', b'\\x00\\n', b'\\x00\\n', b'\\x00\\n', b'\\x00\\n', b'\\x00\\n', b'\\x00\\n', b'\\x00\\n', b'\\x00\\n', b'\\x00\\n', b'\\x00\\n', b'\\x00\\n', b'\\x00\\n', b'\\x00\\n', b'\\x00\\n', b'\\x00\\n', b'\\x00\\n', b'\\x00\\n', b'\\x00\\n', b'\\x00\\n', b'\\x01\\n', b'\\x00\\n', b'\\x01\\n', b'\\x01\\n', b'\\x01\\n', b'\\x01\\n', b'\\x01\\n', b'\\x01\\n', b'\\x01\\n', b'\\x00\\n', b'\\x01\\n', b'\\x00\\n', b'\\x00\\n', b'\\x00\\n', b'\\x00\\n', b'\\x00\\n', b'\\x00\\n', b'\\x01\\n', b'\\x00\\n', b'\\x00\\n', b'\\x00\\n', b'\\x00\\n', b'\\x00\\n', b'\\x00\\n', b'\\x00\\n', b'\\x00\\n', b'\\x00\\n', b'\\x00\\n', b'\\x00\\n', b'\\x01\\n', b'\\x00\\n', b'\\x01\\n', b'\\x00\\n', b'\\x00\\n', b'\\x00\\n', b'\\x00\\n', b'\\x00\\n', b'\\x01\\n', b'\\x00\\n', b'\\x01\\n', b'\\x00\\n', b'\\x01\\n', b'\\x00\\n', b'\\x00\\n', b'\\x00\\n', b'\\x00\\n', b'\\x00\\n', b'\\x00\\n', b'\\x00\\n', b'\\x00\\n', b'\\x00\\n', b'\\x00\\n', b'\\x00\\n', b'\\x00\\n', b'\\x00\\n', b'\\x00\\n', b'\\x00\\n', b'\\x00\\n', b'\\x00\\n', b'\\x00\\n', b'\\x00\\n', b'\\x00\\n', b'\\x00\\n', b'\\x01\\n', b'\\x01\\n', b'\\x01\\n', b'\\x01\\n', b'\\x01\\n', b'\\x00\\n', b'\\x00\\n', b'\\x00\\n', b'\\x00\\n', b'\\x00\\n', b'\\x00\\n', b'\\x00\\n', b'\\x00\\n', b'\\x01\\n', b'\\x01\\n', b'\\x01\\n', b'\\x01\\n', b'\\x01\\n', b'\\x01\\n', b'\\x00\\n', b'\\x00\\n', b'\\x00\\n', b'\\x00\\n', b'\\x00\\n', b'\\x00\\n', b'\\x00\\n', b'\\x00\\n', b'\\x00\\n', b'\\x01\\n', b'\\x00\\n', b'\\x01\\n', b'\\x01\\n', b'\\x01\\n', b'\\x01\\n', b'\\x01\\n', b'\\x01\\n', b'\\x01\\n', b'\\x01\\n', b'\\x01\\n', b'\\x01\\n', b'\\x01\\n', b'\\x01\\n', b'\\x01\\n', b'\\x01\\n', b'\\x01\\n', b'\\x01\\n', b'\\x01\\n', b'\\x01\\n', b'\\x01\\n', b'\\x01\\n', b'\\x01\\n', b'\\x01\\n', b'\\x01\\n', b'\\x01\\n', b'\\x01\\n', b'\\x01\\n', b'\\x01\\n', b'\\x01\\n', b'\\x01\\n', b'\\x01\\n', b'\\x01\\n', b'\\x01\\n', b'\\x01\\n', b'\\x01\\n', b'\\x01\\n', b'\\x01\\n', b'\\x01\\n', b'\\x01\\n', b'\\x01\\n', b'\\x01\\n', b'\\x01\\n', b'\\x01\\n', b'\\x01\\n', b'\\x01\\n', b'\\x01\\n', b'\\x01\\n', b'\\x01\\n', b'\\x01\\n', b'\\x01\\n', b'\\x01\\n', b'\\x01\\n', b'\\x01\\n', b'\\x01\\n', b'\\x01\\n', b'\\x01\\n', b'\\x01\\n', b'\\x01\\n', b'\\x01\\n', b'\\x00\\n', b'\\x00\\n', b'\\x00\\n', b'\\x00\\n', b'\\x00\\n', b'\\x00\\n', b'\\x00\\n', b'\\x00\\n', b'\\x00\\n', b'\\x00\\n', b'\\x00\\n', b'\\x00\\n', b'\\x00\\n', b'\\x00\\n', b'\\x00\\n', b'\\x00\\n', b'\\x00\\n', b'\\x00\\n', b'\\x00\\n', b'\\x00\\n', b'\\x00\\n', b'\\x00\\n', b'\\x00\\n', b'\\x00\\n', b'\\x00\\n', b'\\x00\\n', b'\\x00\\n', b'\\x00\\n', b'\\x00\\n', b'\\n', b'\\x00\\n', b'\\x00\\n', b'\\x00\\n', b'\\x00\\n', b'\\x00\\n', b'\\x00\\n', b'\\x00\\n', b'\\x00\\n', b'\\x00\\n', b'\\x01\\n', b'\\x01\\n', b'\\x01\\n', b'\\x01\\n', b'\\x01\\n', b'\\x01\\n', b'\\x01\\n', b'\\x01\\n', b'\\x01\\n', b'\\x01\\n', b'\\x01\\n', b'\\x01\\n', b'\\x01\\n', b'\\x01\\n', b'\\x01\\n', b'\\x01\\n', b'\\x01\\n', b'\\x01\\n', b'\\x01\\n', b'\\x01\\n', b'\\x01\\n', b'\\x01\\n', b'\\x01\\n']\n",
      "0.526\n"
     ]
    }
   ],
   "source": [
    "print(output)\n",
    "\n",
    "int_outputs = [x[0] for x in output]\n",
    "\n",
    "score = 0\n",
    "for item, label in zip(int_outputs, y):\n",
    "    if  item == label:\n",
    "        score += 1\n",
    "\n",
    "print(score/len(y))"
   ]
  },
  {
   "cell_type": "code",
   "execution_count": 5,
   "metadata": {},
   "outputs": [
    {
     "name": "stdout",
     "output_type": "stream",
     "text": [
      "[200, 202, 89]\n",
      "bytearray(b'\\xc8\\xcaY')\n"
     ]
    }
   ],
   "source": [
    "val = scale_and_cast(X)[0]\n",
    "val_list = [int(x) for x in val]\n",
    "print(val_list)\n",
    "byte_array = bytearray(val_list)\n",
    "print(byte_array)\n"
   ]
  }
 ],
 "metadata": {
  "kernelspec": {
   "display_name": "base",
   "language": "python",
   "name": "python3"
  },
  "language_info": {
   "codemirror_mode": {
    "name": "ipython",
    "version": 3
   },
   "file_extension": ".py",
   "mimetype": "text/x-python",
   "name": "python",
   "nbconvert_exporter": "python",
   "pygments_lexer": "ipython3",
   "version": "3.12.3"
  }
 },
 "nbformat": 4,
 "nbformat_minor": 2
}
