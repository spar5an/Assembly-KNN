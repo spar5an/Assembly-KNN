{
 "cells": [
  {
   "cell_type": "markdown",
   "metadata": {},
   "source": [
    "## This is the final python script for loading and testing of data"
   ]
  },
  {
   "cell_type": "code",
   "execution_count": 111,
   "metadata": {},
   "outputs": [
    {
     "name": "stdout",
     "output_type": "stream",
     "text": [
      "3000\n",
      "Ready to send first points\n",
      "Ready to send training data\n",
      "Ready to send test data\n"
     ]
    }
   ],
   "source": [
    "import serial\n",
    "import sklearn\n",
    "import pickle\n",
    "from sklearn.model_selection import train_test_split\n",
    "import numpy as np\n",
    "from datetime import datetime\n",
    "\n",
    "k = 10\n",
    "banks_filled = 5\n",
    "\n",
    "\n",
    "port = serial.Serial(\"COM4\", 1324800)\n",
    "\n",
    "def scale_and_cast(data):\n",
    "    for i in range(0,data.shape[1]):\n",
    "        sf = 255/(max(data[:,i]) - min(data[:,i]))\n",
    "        data[:,i] = (data[:,i] - min(data[:,i])) * sf\n",
    "\n",
    "    return np.rint(data)\n",
    "\n",
    "with open('data.pickle', 'rb') as handle:\n",
    "    data = pickle.load(handle)\n",
    "\n",
    "X = data[\"values\"][:3000]\n",
    "y = data[\"labels\"][:3000]\n",
    "\n",
    "print(len(X))\n",
    "\n",
    "x_train, x_test, y_train, y_test = train_test_split(scale_and_cast(X), y, test_size=int(len(X)-(banks_filled*64)-k))\n",
    "\n",
    "x_first = x_train[:k]\n",
    "y_first = y_train[:k]\n",
    "\n",
    "x_to_load = x_train[k:]\n",
    "y_to_load = y_train[k:]\n",
    "\n",
    "\n",
    "print(\"Ready to send first points\")\n",
    "\n",
    "for val, lab in zip(x_first,y_first):\n",
    "    #wait for signal\n",
    "    signal = port.readline()    \n",
    "\n",
    "\n",
    "    val_list = [int(x) for x in val]\n",
    "    val_list.append(int(lab))\n",
    "    #send data\n",
    "    port.write(bytearray(val_list))\n",
    "\n",
    "print(\"Ready to send training data\")\n",
    "\n",
    "for val, lab in zip(x_to_load,y_to_load):\n",
    "    #wait for signal\n",
    "    signal = port.readline()    \n",
    "\n",
    "\n",
    "    val_list = [int(x) for x in val]\n",
    "    val_list.append(int(lab))\n",
    "    #send data\n",
    "    port.write(bytearray(val_list))\n",
    "\n",
    "print(\"Ready to send test data\")\n",
    "\n",
    "program_read_times = []\n",
    "data_send_times = []\n",
    "data_received_times = []\n",
    "\n",
    "\n",
    "\n",
    "for val, label in zip(x_test, y_test):\n",
    "    #wait for signal\n",
    "    signal = port.readline()\n",
    "    program_read_times.append(datetime.now())\n",
    "\n",
    "    val_list = [int(x) for x in val]\n",
    "    #send data\n",
    "    port.write(bytearray(val_list))\n",
    "    data_send_times.append(datetime.now())\n",
    "\n",
    "    signal = port.readline()\n",
    "    data_received_times.append(datetime.now())\n",
    "\n",
    "\n",
    "data = {\"program_read_times\":program_read_times,\"data_send_times\":data_send_times,\"data_received_times\":data_received_times}\n",
    "\n",
    "with open(\"./data/\"+str(k)+\"_\"+str(banks_filled)+\".pickle\", 'wb') as handle:\n",
    "    pickle.dump(data, handle, protocol=pickle.HIGHEST_PROTOCOL)"
   ]
  },
  {
   "cell_type": "code",
   "execution_count": null,
   "metadata": {},
   "outputs": [],
   "source": []
  }
 ],
 "metadata": {
  "kernelspec": {
   "display_name": "base",
   "language": "python",
   "name": "python3"
  },
  "language_info": {
   "codemirror_mode": {
    "name": "ipython",
    "version": 3
   },
   "file_extension": ".py",
   "mimetype": "text/x-python",
   "name": "python",
   "nbconvert_exporter": "python",
   "pygments_lexer": "ipython3",
   "version": "3.12.3"
  }
 },
 "nbformat": 4,
 "nbformat_minor": 2
}
