{
 "cells": [
  {
   "cell_type": "markdown",
   "metadata": {},
   "source": [
    "## This is the final python script for loading and testing of data"
   ]
  },
  {
   "cell_type": "code",
   "execution_count": null,
   "metadata": {},
   "outputs": [],
   "source": [
    "import serial\n",
    "import sklearn\n",
    "from sklearn.model_selection import train_test_split\n",
    "import numpy as np\n",
    "\n",
    "\n",
    "port = serial.Serial(\"COM4\", 9600)\n",
    "\n",
    "def scale_and_cast(data):\n",
    "    for i in range(0,data.shape[1]):\n",
    "        sf = 255/(max(data[:,i]) - min(data[:,i]))\n",
    "        data[:,i] = (data[:,i] - min(data[:,i])) * sf\n",
    "\n",
    "    return np.rint(data)\n",
    "\n"
   ]
  }
 ],
 "metadata": {
  "kernelspec": {
   "display_name": "base",
   "language": "python",
   "name": "python3"
  },
  "language_info": {
   "name": "python",
   "version": "3.12.3"
  }
 },
 "nbformat": 4,
 "nbformat_minor": 2
}
