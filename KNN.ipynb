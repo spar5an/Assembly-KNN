{
 "cells": [
  {
   "cell_type": "markdown",
   "metadata": {},
   "source": [
    "# KNN From Scratch\n",
    "The point of this is to code a KNN from scratch in order to learn the architecture, do some experimenting and feasibility checks. Useful for report material."
   ]
  },
  {
   "cell_type": "markdown",
   "metadata": {},
   "source": [
    "Will not be importing any modules and will be enforcing 8 bit integers only. Although I will still have access to things like classes and lists, this will mimic the behaviour of the micro-processor better than otherwise."
   ]
  },
  {
   "cell_type": "code",
   "execution_count": null,
   "metadata": {},
   "outputs": [],
   "source": [
    "def distance(x1,x2):\n",
    "    total = 0\n",
    "    for c1,c2 in zip(x1,x2):\n",
    "        total += c2**-c1**2\n",
    "    return total\n",
    "    \n",
    "\n",
    "class KNN:\n",
    "    def __init__(self, K):#might add weighting later but just uniform for the time being\n",
    "        self.K = K\n",
    "\n",
    "    def fit(self,x,y):\n",
    "        self.x = x\n",
    "        self.y = y\n",
    "\n",
    "    def predict(self, input_point):\n",
    "\n",
    "        #going to calculate distance to everypoint and then sort, will upgrade this list later\n",
    "        distances = []\n",
    "        for i in self.x:\n",
    "            distances.append(distance(input_point,i))\n",
    "\n",
    "        \n",
    "        \n",
    "\n",
    "        \n"
   ]
  }
 ],
 "metadata": {
  "kernelspec": {
   "display_name": ".venv",
   "language": "python",
   "name": "python3"
  },
  "language_info": {
   "codemirror_mode": {
    "name": "ipython",
    "version": 3
   },
   "file_extension": ".py",
   "mimetype": "text/x-python",
   "name": "python",
   "nbconvert_exporter": "python",
   "pygments_lexer": "ipython3",
   "version": "3.11.2"
  }
 },
 "nbformat": 4,
 "nbformat_minor": 2
}
